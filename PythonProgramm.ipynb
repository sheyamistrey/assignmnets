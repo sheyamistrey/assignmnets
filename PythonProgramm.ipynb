{
 "cells": [
  {
   "cell_type": "code",
   "execution_count": 1,
   "id": "ba26daf5",
   "metadata": {},
   "outputs": [],
   "source": [
    "#Programming Languag: Python\n",
    "#Core Programming :\n",
    "#OOP\n",
    "#networking\n",
    "#scikit-learn, seaborn, pytorch, tenserflow\n",
    "\n",
    "# Gender : male, female"
   ]
  },
  {
   "cell_type": "code",
   "execution_count": 2,
   "id": "7c7199a4",
   "metadata": {},
   "outputs": [],
   "source": [
    "# Python : Guido van Rossum - 1991\n",
    "#Data - raw facts - smallest entity of any information\n",
    "#Data types : int, float, string, boolean"
   ]
  },
  {
   "cell_type": "code",
   "execution_count": 5,
   "id": "acda1055",
   "metadata": {},
   "outputs": [
    {
     "name": "stdout",
     "output_type": "stream",
     "text": [
      "Enter your gender : male/female female\n"
     ]
    }
   ],
   "source": [
    "st = input(\"Enter your gender : male/female \")"
   ]
  },
  {
   "cell_type": "code",
   "execution_count": 4,
   "id": "2c8f33dd",
   "metadata": {},
   "outputs": [
    {
     "data": {
      "text/plain": [
       "str"
      ]
     },
     "execution_count": 4,
     "metadata": {},
     "output_type": "execute_result"
    }
   ],
   "source": [
    "type(st)"
   ]
  },
  {
   "cell_type": "code",
   "execution_count": 6,
   "id": "eab2410e",
   "metadata": {},
   "outputs": [],
   "source": [
    "st = \"Welcome\""
   ]
  },
  {
   "cell_type": "code",
   "execution_count": 7,
   "id": "8d41fb25",
   "metadata": {},
   "outputs": [
    {
     "data": {
      "text/plain": [
       "str"
      ]
     },
     "execution_count": 7,
     "metadata": {},
     "output_type": "execute_result"
    }
   ],
   "source": [
    "type(st)"
   ]
  },
  {
   "cell_type": "code",
   "execution_count": 8,
   "id": "419bb1dd",
   "metadata": {},
   "outputs": [
    {
     "data": {
      "text/plain": [
       "'welcome'"
      ]
     },
     "execution_count": 8,
     "metadata": {},
     "output_type": "execute_result"
    }
   ],
   "source": [
    "st.lower()"
   ]
  },
  {
   "cell_type": "code",
   "execution_count": 9,
   "id": "aa4b32bc",
   "metadata": {},
   "outputs": [
    {
     "data": {
      "text/plain": [
       "'WELCOME'"
      ]
     },
     "execution_count": 9,
     "metadata": {},
     "output_type": "execute_result"
    }
   ],
   "source": [
    "st.upper()"
   ]
  },
  {
   "cell_type": "code",
   "execution_count": 10,
   "id": "98b52613",
   "metadata": {},
   "outputs": [
    {
     "data": {
      "text/plain": [
       "'Welcome'"
      ]
     },
     "execution_count": 10,
     "metadata": {},
     "output_type": "execute_result"
    }
   ],
   "source": [
    "st.capitalize()"
   ]
  },
  {
   "cell_type": "code",
   "execution_count": 12,
   "id": "57bb3014",
   "metadata": {},
   "outputs": [
    {
     "name": "stdout",
     "output_type": "stream",
     "text": [
      "Enter your gender: Male/Female: MALE\n",
      "You are male\n"
     ]
    }
   ],
   "source": [
    "st = input(\"Enter your gender: Male/Female: \")\n",
    "st = st.lower()\n",
    "if(st == 'male'):\n",
    "    print(\"You are male\")\n",
    "elif(st == 'female'):\n",
    "    print(\"You are female\")\n",
    "else:\n",
    "    print(\"Wrong format\")"
   ]
  },
  {
   "cell_type": "code",
   "execution_count": 13,
   "id": "3255d51c",
   "metadata": {},
   "outputs": [
    {
     "name": "stdout",
     "output_type": "stream",
     "text": [
      "Enter First number: 25\n",
      "Enter Second number: 25\n",
      "Addition of two numbers are:  2525\n"
     ]
    }
   ],
   "source": [
    "x = input(\"Enter First number: \")\n",
    "y = input(\"Enter Second number: \")\n",
    "z = x + y\n",
    "print(\"Addition of two numbers are: \", z)"
   ]
  },
  {
   "cell_type": "code",
   "execution_count": 14,
   "id": "459cf9e2",
   "metadata": {},
   "outputs": [
    {
     "name": "stdout",
     "output_type": "stream",
     "text": [
      "<class 'str'>\n"
     ]
    }
   ],
   "source": [
    "print(type(x))"
   ]
  },
  {
   "cell_type": "code",
   "execution_count": 16,
   "id": "59d9db25",
   "metadata": {},
   "outputs": [
    {
     "name": "stdout",
     "output_type": "stream",
     "text": [
      "<class 'str'>\n"
     ]
    }
   ],
   "source": [
    "print(type(y))"
   ]
  },
  {
   "cell_type": "code",
   "execution_count": 17,
   "id": "31b4c07b",
   "metadata": {},
   "outputs": [
    {
     "name": "stdout",
     "output_type": "stream",
     "text": [
      "Enter First number: 25\n",
      "Enter Second number: 25\n",
      "Addition of two numbers are:  50\n"
     ]
    }
   ],
   "source": [
    "x = input(\"Enter First number: \")\n",
    "y = input(\"Enter Second number: \")\n",
    "z = int(x) + int(y)\n",
    "print(\"Addition of two numbers are: \", z)"
   ]
  },
  {
   "cell_type": "code",
   "execution_count": 18,
   "id": "3f516735",
   "metadata": {},
   "outputs": [
    {
     "name": "stdout",
     "output_type": "stream",
     "text": [
      "<class 'str'>\n"
     ]
    }
   ],
   "source": [
    "print(type(x))"
   ]
  },
  {
   "cell_type": "code",
   "execution_count": 19,
   "id": "fd813a80",
   "metadata": {},
   "outputs": [
    {
     "name": "stdout",
     "output_type": "stream",
     "text": [
      "Enter First number: 25\n",
      "Enter Second number: 25\n",
      "Addition of two numbers are:  50\n"
     ]
    }
   ],
   "source": [
    "x = int(input(\"Enter First number: \"))\n",
    "y = int(input(\"Enter Second number: \"))\n",
    "z = x + y\n",
    "print(\"Addition of two numbers are: \", z)"
   ]
  },
  {
   "cell_type": "code",
   "execution_count": 20,
   "id": "1d26b287",
   "metadata": {},
   "outputs": [
    {
     "name": "stdout",
     "output_type": "stream",
     "text": [
      "<class 'int'>\n"
     ]
    }
   ],
   "source": [
    "print(type(x))"
   ]
  },
  {
   "cell_type": "code",
   "execution_count": 21,
   "id": "819f7ab4",
   "metadata": {},
   "outputs": [
    {
     "name": "stdout",
     "output_type": "stream",
     "text": [
      "<class 'int'>\n"
     ]
    }
   ],
   "source": [
    "print(type(x))"
   ]
  },
  {
   "cell_type": "code",
   "execution_count": 22,
   "id": "c1ea79ba",
   "metadata": {},
   "outputs": [],
   "source": [
    "#Area of Circle - pi * r *r"
   ]
  },
  {
   "cell_type": "code",
   "execution_count": 23,
   "id": "98e55a1b",
   "metadata": {},
   "outputs": [],
   "source": [
    "from math import pi"
   ]
  },
  {
   "cell_type": "code",
   "execution_count": 24,
   "id": "2398785e",
   "metadata": {},
   "outputs": [
    {
     "data": {
      "text/plain": [
       "3.141592653589793"
      ]
     },
     "execution_count": 24,
     "metadata": {},
     "output_type": "execute_result"
    }
   ],
   "source": [
    "pi"
   ]
  },
  {
   "cell_type": "code",
   "execution_count": 27,
   "id": "5126af98",
   "metadata": {},
   "outputs": [
    {
     "name": "stdout",
     "output_type": "stream",
     "text": [
      "Enter the radius of circle: 2.5\n",
      "Area of Circle is 19.634954084936208\n"
     ]
    }
   ],
   "source": [
    "radius = float(input(\"Enter the radius of circle: \"))\n",
    "area = (pi * radius * radius)\n",
    "print(f'Area of Circle is {area}')\n"
   ]
  },
  {
   "cell_type": "code",
   "execution_count": 28,
   "id": "ee9e4407",
   "metadata": {},
   "outputs": [
    {
     "name": "stdout",
     "output_type": "stream",
     "text": [
      "<class 'float'>\n"
     ]
    }
   ],
   "source": [
    "print(type(radius))"
   ]
  },
  {
   "cell_type": "code",
   "execution_count": 29,
   "id": "e5a229ed",
   "metadata": {},
   "outputs": [],
   "source": [
    "#Boolean"
   ]
  },
  {
   "cell_type": "code",
   "execution_count": 30,
   "id": "e7157dc1",
   "metadata": {},
   "outputs": [
    {
     "data": {
      "text/plain": [
       "2"
      ]
     },
     "execution_count": 30,
     "metadata": {},
     "output_type": "execute_result"
    }
   ],
   "source": [
    "True + True"
   ]
  },
  {
   "cell_type": "code",
   "execution_count": 31,
   "id": "74d6024b",
   "metadata": {},
   "outputs": [
    {
     "data": {
      "text/plain": [
       "1"
      ]
     },
     "execution_count": 31,
     "metadata": {},
     "output_type": "execute_result"
    }
   ],
   "source": [
    "True +False"
   ]
  },
  {
   "cell_type": "code",
   "execution_count": 32,
   "id": "283aaffe",
   "metadata": {},
   "outputs": [
    {
     "data": {
      "text/plain": [
       "0"
      ]
     },
     "execution_count": 32,
     "metadata": {},
     "output_type": "execute_result"
    }
   ],
   "source": [
    "False + False"
   ]
  },
  {
   "cell_type": "code",
   "execution_count": 33,
   "id": "ad09b539",
   "metadata": {},
   "outputs": [],
   "source": [
    "#and, or, not\n",
    "# Either i like tea or coffee\n",
    "# i like cricket and football"
   ]
  },
  {
   "cell_type": "code",
   "execution_count": 34,
   "id": "354dad13",
   "metadata": {},
   "outputs": [],
   "source": [
    "nm = \"Shivam\""
   ]
  },
  {
   "cell_type": "code",
   "execution_count": 35,
   "id": "5de7d555",
   "metadata": {},
   "outputs": [
    {
     "name": "stdout",
     "output_type": "stream",
     "text": [
      "<class 'str'>\n"
     ]
    }
   ],
   "source": [
    "print(type(nm))"
   ]
  },
  {
   "cell_type": "code",
   "execution_count": 36,
   "id": "98b7d2df",
   "metadata": {},
   "outputs": [],
   "source": [
    "x = 20"
   ]
  },
  {
   "cell_type": "code",
   "execution_count": 37,
   "id": "6e3117de",
   "metadata": {},
   "outputs": [
    {
     "name": "stdout",
     "output_type": "stream",
     "text": [
      "<class 'int'>\n"
     ]
    }
   ],
   "source": [
    "print(type(x))"
   ]
  },
  {
   "cell_type": "code",
   "execution_count": 38,
   "id": "db480950",
   "metadata": {},
   "outputs": [],
   "source": [
    "x = 3.14"
   ]
  },
  {
   "cell_type": "code",
   "execution_count": 39,
   "id": "27f45b45",
   "metadata": {},
   "outputs": [
    {
     "name": "stdout",
     "output_type": "stream",
     "text": [
      "<class 'float'>\n"
     ]
    }
   ],
   "source": [
    "print(type(x))"
   ]
  },
  {
   "cell_type": "code",
   "execution_count": 40,
   "id": "b4df203e",
   "metadata": {},
   "outputs": [],
   "source": [
    "x = True"
   ]
  },
  {
   "cell_type": "code",
   "execution_count": 41,
   "id": "83d20f9f",
   "metadata": {},
   "outputs": [
    {
     "name": "stdout",
     "output_type": "stream",
     "text": [
      "<class 'bool'>\n"
     ]
    }
   ],
   "source": [
    "print(type(x))"
   ]
  },
  {
   "cell_type": "code",
   "execution_count": 42,
   "id": "4105cb38",
   "metadata": {},
   "outputs": [],
   "source": [
    "#and , or, not : \n",
    "#Leap year : \n",
    "#Logic Gates : \n",
    "#and : \n",
    "# True   True    True\n",
    "# True   False   False \n",
    "# False  True    False\n",
    "# False  False   False\n",
    "# or\n",
    "# True   True    True\n",
    "# True   False   True\n",
    "# False  True    True\n",
    "# False  False   False\n",
    "# not\n",
    "# True   False \n",
    "# False  True"
   ]
  },
  {
   "cell_type": "code",
   "execution_count": 43,
   "id": "4bb22db1",
   "metadata": {},
   "outputs": [
    {
     "data": {
      "text/plain": [
       "True"
      ]
     },
     "execution_count": 43,
     "metadata": {},
     "output_type": "execute_result"
    }
   ],
   "source": [
    "True and True"
   ]
  },
  {
   "cell_type": "code",
   "execution_count": 44,
   "id": "dbad8fe2",
   "metadata": {},
   "outputs": [
    {
     "data": {
      "text/plain": [
       "False"
      ]
     },
     "execution_count": 44,
     "metadata": {},
     "output_type": "execute_result"
    }
   ],
   "source": [
    "True and False"
   ]
  },
  {
   "cell_type": "code",
   "execution_count": 45,
   "id": "8e9511f6",
   "metadata": {},
   "outputs": [
    {
     "data": {
      "text/plain": [
       "False"
      ]
     },
     "execution_count": 45,
     "metadata": {},
     "output_type": "execute_result"
    }
   ],
   "source": [
    "False and True"
   ]
  },
  {
   "cell_type": "code",
   "execution_count": 46,
   "id": "7dd68b29",
   "metadata": {},
   "outputs": [
    {
     "data": {
      "text/plain": [
       "False"
      ]
     },
     "execution_count": 46,
     "metadata": {},
     "output_type": "execute_result"
    }
   ],
   "source": [
    "False and False"
   ]
  },
  {
   "cell_type": "code",
   "execution_count": 47,
   "id": "18c536b5",
   "metadata": {},
   "outputs": [
    {
     "data": {
      "text/plain": [
       "True"
      ]
     },
     "execution_count": 47,
     "metadata": {},
     "output_type": "execute_result"
    }
   ],
   "source": [
    "True or False"
   ]
  },
  {
   "cell_type": "code",
   "execution_count": 48,
   "id": "b7f4b04e",
   "metadata": {},
   "outputs": [
    {
     "data": {
      "text/plain": [
       "True"
      ]
     },
     "execution_count": 48,
     "metadata": {},
     "output_type": "execute_result"
    }
   ],
   "source": [
    "True or True"
   ]
  },
  {
   "cell_type": "code",
   "execution_count": 49,
   "id": "6d401ff6",
   "metadata": {},
   "outputs": [
    {
     "data": {
      "text/plain": [
       "True"
      ]
     },
     "execution_count": 49,
     "metadata": {},
     "output_type": "execute_result"
    }
   ],
   "source": [
    "False or True"
   ]
  },
  {
   "cell_type": "code",
   "execution_count": 50,
   "id": "6fa4d5da",
   "metadata": {},
   "outputs": [
    {
     "data": {
      "text/plain": [
       "False"
      ]
     },
     "execution_count": 50,
     "metadata": {},
     "output_type": "execute_result"
    }
   ],
   "source": [
    "False or False"
   ]
  },
  {
   "cell_type": "code",
   "execution_count": 51,
   "id": "6f3abebb",
   "metadata": {},
   "outputs": [
    {
     "data": {
      "text/plain": [
       "False"
      ]
     },
     "execution_count": 51,
     "metadata": {},
     "output_type": "execute_result"
    }
   ],
   "source": [
    "not True"
   ]
  },
  {
   "cell_type": "code",
   "execution_count": 52,
   "id": "1ca1f5d2",
   "metadata": {},
   "outputs": [
    {
     "data": {
      "text/plain": [
       "True"
      ]
     },
     "execution_count": 52,
     "metadata": {},
     "output_type": "execute_result"
    }
   ],
   "source": [
    "not False"
   ]
  },
  {
   "cell_type": "code",
   "execution_count": 53,
   "id": "035ba0cd",
   "metadata": {},
   "outputs": [],
   "source": [
    "#Palindrome or not"
   ]
  },
  {
   "cell_type": "code",
   "execution_count": 54,
   "id": "9ab595be",
   "metadata": {},
   "outputs": [],
   "source": [
    "#Arithmeic operator : +, -, *, /, %, **, //"
   ]
  },
  {
   "cell_type": "code",
   "execution_count": null,
   "id": "9b51e3a8",
   "metadata": {},
   "outputs": [],
   "source": [
    "x = input(\"Enter first number: \")\n",
    "y = input(\"Enter Second number: \")\n",
    "z = x + y"
   ]
  }
 ],
 "metadata": {
  "kernelspec": {
   "display_name": "Python 3 (ipykernel)",
   "language": "python",
   "name": "python3"
  },
  "language_info": {
   "codemirror_mode": {
    "name": "ipython",
    "version": 3
   },
   "file_extension": ".py",
   "mimetype": "text/x-python",
   "name": "python",
   "nbconvert_exporter": "python",
   "pygments_lexer": "ipython3",
   "version": "3.9.13"
  }
 },
 "nbformat": 4,
 "nbformat_minor": 5
}
