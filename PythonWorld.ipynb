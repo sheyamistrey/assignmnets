{
 "cells": [
  {
   "cell_type": "code",
   "execution_count": 1,
   "id": "b522a5af",
   "metadata": {},
   "outputs": [],
   "source": [
    "import numpy as pandas"
   ]
  },
  {
   "cell_type": "code",
   "execution_count": 2,
   "id": "8606a25a",
   "metadata": {},
   "outputs": [
    {
     "ename": "ImportError",
     "evalue": "cannot import name 'pandas' from 'numpy' (C:\\Users\\Administrator\\anaconda3\\lib\\site-packages\\numpy\\__init__.py)",
     "output_type": "error",
     "traceback": [
      "\u001b[1;31m---------------------------------------------------------------------------\u001b[0m",
      "\u001b[1;31mImportError\u001b[0m                               Traceback (most recent call last)",
      "\u001b[1;32m~\\AppData\\Local\\Temp\\ipykernel_10588\\3955928270.py\u001b[0m in \u001b[0;36m<module>\u001b[1;34m\u001b[0m\n\u001b[1;32m----> 1\u001b[1;33m \u001b[1;32mfrom\u001b[0m \u001b[0mnumpy\u001b[0m \u001b[1;32mimport\u001b[0m \u001b[0mpandas\u001b[0m\u001b[1;33m\u001b[0m\u001b[1;33m\u001b[0m\u001b[0m\n\u001b[0m",
      "\u001b[1;31mImportError\u001b[0m: cannot import name 'pandas' from 'numpy' (C:\\Users\\Administrator\\anaconda3\\lib\\site-packages\\numpy\\__init__.py)"
     ]
    }
   ],
   "source": [
    "from numpy import pandas"
   ]
  },
  {
   "cell_type": "code",
   "execution_count": 3,
   "id": "34814059",
   "metadata": {},
   "outputs": [
    {
     "name": "stdout",
     "output_type": "stream",
     "text": [
      "0\n",
      "1\n",
      "1\n",
      "2\n",
      "3\n",
      "5\n",
      "8\n",
      "13\n",
      "21\n",
      "34\n",
      "55\n",
      "89\n",
      "144\n"
     ]
    }
   ],
   "source": [
    "n1 = 0\n",
    "n2 = 1\n",
    "n3 = 0\n",
    "print(n1)\n",
    "print(n2)\n",
    "while(n3<100):\n",
    "    n3 = n1+n2\n",
    "    print(n3)\n",
    "    n1 = n2\n",
    "    n2 = n3"
   ]
  },
  {
   "cell_type": "code",
   "execution_count": 1,
   "id": "fcdf94b4",
   "metadata": {},
   "outputs": [],
   "source": [
    "ls = [\"Onomatopoeia\",\"Sesquipedalian\",\"Supercalifragilisticexpialidocious\",\"Worcestershire\"]"
   ]
  },
  {
   "cell_type": "code",
   "execution_count": 2,
   "id": "e443a195",
   "metadata": {},
   "outputs": [],
   "source": [
    "import random"
   ]
  },
  {
   "cell_type": "code",
   "execution_count": 3,
   "id": "363639f7",
   "metadata": {},
   "outputs": [],
   "source": [
    "word = random.choice(ls)"
   ]
  },
  {
   "cell_type": "code",
   "execution_count": 4,
   "id": "166240ba",
   "metadata": {},
   "outputs": [
    {
     "name": "stdout",
     "output_type": "stream",
     "text": [
      "Supercalifragilisticexpialidocious\n"
     ]
    }
   ],
   "source": [
    "print(word)"
   ]
  },
  {
   "cell_type": "code",
   "execution_count": 7,
   "id": "69fefed9",
   "metadata": {},
   "outputs": [
    {
     "name": "stdout",
     "output_type": "stream",
     "text": [
      "S u p e r c a l i f r a g i l i s t i c e x p i a l i d o c i o u s \n"
     ]
    }
   ],
   "source": [
    "for c in word:\n",
    "    print(c, end=' ')\n",
    "print()"
   ]
  },
  {
   "cell_type": "code",
   "execution_count": 8,
   "id": "d6deccb5",
   "metadata": {},
   "outputs": [],
   "source": [
    "st = \"Valmik\""
   ]
  },
  {
   "cell_type": "code",
   "execution_count": 9,
   "id": "7452464d",
   "metadata": {},
   "outputs": [
    {
     "data": {
      "text/plain": [
       "'PValmikaValmiktValmikiValmikl'"
      ]
     },
     "execution_count": 9,
     "metadata": {},
     "output_type": "execute_result"
    }
   ],
   "source": [
    "st.join(\"Patil\")"
   ]
  },
  {
   "cell_type": "code",
   "execution_count": 1,
   "id": "3f114c4d",
   "metadata": {},
   "outputs": [],
   "source": [
    "#object oriented Programming : \n",
    "#Data types : int, float, string, boolean\n",
    "#Data structure : list, tuple, set, dictionary\n",
    "#Operators :\n",
    "#Arithmetic : +,-,*,/,%,//\n",
    "#Relational : >, <, >=, <=, ==, !=\n",
    "# Logical: and, or, not\n",
    "#Assignment - =, +=, -=, *=, /=, %=, //=\n",
    "# Decision Control Structure : if, if else, if elif else\n",
    "#looping : while , for in\n",
    "#function : \n",
    "#user defined - def\n",
    "#predefined\n",
    "#lambda : lambda\n",
    "#Exception handling : try except, try except else finally\n",
    "#Object Oriented Programming:\n",
    "#class\n",
    "#Object\n",
    "#Inheritance\n",
    "#Encapsulation\n",
    "#Polymorpshim"
   ]
  },
  {
   "cell_type": "code",
   "execution_count": 2,
   "id": "eb92ba86",
   "metadata": {},
   "outputs": [],
   "source": [
    "x = 10\n",
    "y = 20"
   ]
  },
  {
   "cell_type": "code",
   "execution_count": 3,
   "id": "6ff3c8f4",
   "metadata": {},
   "outputs": [
    {
     "ename": "SyntaxError",
     "evalue": "invalid syntax (2597419624.py, line 1)",
     "output_type": "error",
     "traceback": [
      "\u001b[1;36m  File \u001b[1;32m\"C:\\Users\\Administrator\\AppData\\Local\\Temp\\ipykernel_5256\\2597419624.py\"\u001b[1;36m, line \u001b[1;32m1\u001b[0m\n\u001b[1;33m    x =< y\u001b[0m\n\u001b[1;37m       ^\u001b[0m\n\u001b[1;31mSyntaxError\u001b[0m\u001b[1;31m:\u001b[0m invalid syntax\n"
     ]
    }
   ],
   "source": [
    "x =< y"
   ]
  },
  {
   "cell_type": "code",
   "execution_count": 4,
   "id": "58e9dc00",
   "metadata": {},
   "outputs": [],
   "source": [
    "#Function : set of instructions made for particular task\n",
    "# def functionName():\n",
    "    # What to make the function do"
   ]
  },
  {
   "cell_type": "code",
   "execution_count": 5,
   "id": "a254077f",
   "metadata": {},
   "outputs": [
    {
     "name": "stdout",
     "output_type": "stream",
     "text": [
      "50\n"
     ]
    }
   ],
   "source": [
    "def add(x, y):\n",
    "    return x + y\n",
    "print(add(20,30))"
   ]
  },
  {
   "cell_type": "code",
   "execution_count": 6,
   "id": "0f0365da",
   "metadata": {},
   "outputs": [
    {
     "name": "stdout",
     "output_type": "stream",
     "text": [
      "Hello World\n"
     ]
    }
   ],
   "source": [
    "def myfunction():\n",
    "    print(\"Hello World\")\n",
    "myfunction()"
   ]
  },
  {
   "cell_type": "code",
   "execution_count": 7,
   "id": "536cbc30",
   "metadata": {},
   "outputs": [
    {
     "name": "stdout",
     "output_type": "stream",
     "text": [
      "Your name is Deep\n"
     ]
    }
   ],
   "source": [
    "def name(str):\n",
    "    print(f'Your name is {str}')\n",
    "\n",
    "name(\"Deep\")"
   ]
  },
  {
   "cell_type": "code",
   "execution_count": 8,
   "id": "10508e5b",
   "metadata": {},
   "outputs": [
    {
     "name": "stdout",
     "output_type": "stream",
     "text": [
      "Your name is Deep\n"
     ]
    }
   ],
   "source": [
    "def name(str):\n",
    "    return str\n",
    "res = name(\"Deep\")\n",
    "print(f'Your name is {res}')"
   ]
  },
  {
   "cell_type": "code",
   "execution_count": 9,
   "id": "a1770325",
   "metadata": {},
   "outputs": [
    {
     "name": "stdout",
     "output_type": "stream",
     "text": [
      "50\n"
     ]
    }
   ],
   "source": [
    "res = lambda x,y:x+y\n",
    "print(res(25,25))"
   ]
  },
  {
   "cell_type": "code",
   "execution_count": 10,
   "id": "ed936c7a",
   "metadata": {},
   "outputs": [
    {
     "name": "stdout",
     "output_type": "stream",
     "text": [
      "Deep\n"
     ]
    }
   ],
   "source": [
    "res = lambda str:str\n",
    "print(res(\"Deep\"))"
   ]
  },
  {
   "cell_type": "code",
   "execution_count": 11,
   "id": "bccb516c",
   "metadata": {},
   "outputs": [
    {
     "name": "stdout",
     "output_type": "stream",
     "text": [
      "120\n"
     ]
    }
   ],
   "source": [
    "def factorize(n):\n",
    "    fac = 1\n",
    "    while(n>0):\n",
    "        fac = fac * n\n",
    "        n =n-1\n",
    "    return fac\n",
    "res = factorize(5)\n",
    "print(res)"
   ]
  },
  {
   "cell_type": "code",
   "execution_count": 12,
   "id": "c9c760b8",
   "metadata": {},
   "outputs": [
    {
     "ename": "NameError",
     "evalue": "name 'fact' is not defined",
     "output_type": "error",
     "traceback": [
      "\u001b[1;31m---------------------------------------------------------------------------\u001b[0m",
      "\u001b[1;31mNameError\u001b[0m                                 Traceback (most recent call last)",
      "\u001b[1;32m~\\AppData\\Local\\Temp\\ipykernel_5256\\3200679777.py\u001b[0m in \u001b[0;36m<module>\u001b[1;34m\u001b[0m\n\u001b[1;32m----> 1\u001b[1;33m \u001b[0mfact\u001b[0m\u001b[1;33m(\u001b[0m\u001b[1;36m5\u001b[0m\u001b[1;33m)\u001b[0m\u001b[1;33m\u001b[0m\u001b[1;33m\u001b[0m\u001b[0m\n\u001b[0m",
      "\u001b[1;31mNameError\u001b[0m: name 'fact' is not defined"
     ]
    }
   ],
   "source": [
    "fact(5)"
   ]
  },
  {
   "cell_type": "code",
   "execution_count": 15,
   "id": "722fa936",
   "metadata": {},
   "outputs": [],
   "source": [
    "from math import factorial"
   ]
  },
  {
   "cell_type": "code",
   "execution_count": 14,
   "id": "9964a51c",
   "metadata": {},
   "outputs": [],
   "source": [
    "import math"
   ]
  },
  {
   "cell_type": "code",
   "execution_count": 16,
   "id": "a96ba265",
   "metadata": {},
   "outputs": [
    {
     "data": {
      "text/plain": [
       "120"
      ]
     },
     "execution_count": 16,
     "metadata": {},
     "output_type": "execute_result"
    }
   ],
   "source": [
    "factorial(5)"
   ]
  },
  {
   "cell_type": "code",
   "execution_count": 1,
   "id": "1f7774bd",
   "metadata": {},
   "outputs": [],
   "source": [
    "#Iteration : \n",
    "ls = [1,2,3,4,5,6]"
   ]
  },
  {
   "cell_type": "code",
   "execution_count": 2,
   "id": "d10bbdac",
   "metadata": {},
   "outputs": [
    {
     "data": {
      "text/plain": [
       "['__add__',\n",
       " '__class__',\n",
       " '__class_getitem__',\n",
       " '__contains__',\n",
       " '__delattr__',\n",
       " '__delitem__',\n",
       " '__dir__',\n",
       " '__doc__',\n",
       " '__eq__',\n",
       " '__format__',\n",
       " '__ge__',\n",
       " '__getattribute__',\n",
       " '__getitem__',\n",
       " '__gt__',\n",
       " '__hash__',\n",
       " '__iadd__',\n",
       " '__imul__',\n",
       " '__init__',\n",
       " '__init_subclass__',\n",
       " '__iter__',\n",
       " '__le__',\n",
       " '__len__',\n",
       " '__lt__',\n",
       " '__mul__',\n",
       " '__ne__',\n",
       " '__new__',\n",
       " '__reduce__',\n",
       " '__reduce_ex__',\n",
       " '__repr__',\n",
       " '__reversed__',\n",
       " '__rmul__',\n",
       " '__setattr__',\n",
       " '__setitem__',\n",
       " '__sizeof__',\n",
       " '__str__',\n",
       " '__subclasshook__',\n",
       " 'append',\n",
       " 'clear',\n",
       " 'copy',\n",
       " 'count',\n",
       " 'extend',\n",
       " 'index',\n",
       " 'insert',\n",
       " 'pop',\n",
       " 'remove',\n",
       " 'reverse',\n",
       " 'sort']"
      ]
     },
     "execution_count": 2,
     "metadata": {},
     "output_type": "execute_result"
    }
   ],
   "source": [
    "dir(ls)"
   ]
  },
  {
   "cell_type": "code",
   "execution_count": 3,
   "id": "23137a0a",
   "metadata": {},
   "outputs": [
    {
     "name": "stdout",
     "output_type": "stream",
     "text": [
      "1\n",
      "2\n",
      "3\n",
      "4\n",
      "5\n",
      "6\n"
     ]
    }
   ],
   "source": [
    "for i in ls:\n",
    "    print(i)"
   ]
  },
  {
   "cell_type": "code",
   "execution_count": 4,
   "id": "eeabb298",
   "metadata": {},
   "outputs": [],
   "source": [
    "# Iteration is a general term for taking each item of something, \n",
    "# one after another. Any time you use a loop, explicit or implicit,\n",
    "# to go over a group of items, that is iteration."
   ]
  },
  {
   "cell_type": "code",
   "execution_count": 5,
   "id": "79fe6704",
   "metadata": {},
   "outputs": [],
   "source": [
    "st = {1,2,3,4,5,6,7,8,9}"
   ]
  },
  {
   "cell_type": "code",
   "execution_count": 6,
   "id": "bfc5d8f6",
   "metadata": {},
   "outputs": [
    {
     "name": "stdout",
     "output_type": "stream",
     "text": [
      "1\n",
      "2\n",
      "3\n",
      "4\n",
      "5\n",
      "6\n",
      "7\n",
      "8\n",
      "9\n"
     ]
    }
   ],
   "source": [
    "for i in st:\n",
    "    print(i)"
   ]
  },
  {
   "cell_type": "code",
   "execution_count": 7,
   "id": "8462a8d5",
   "metadata": {},
   "outputs": [
    {
     "data": {
      "text/plain": [
       "['__and__',\n",
       " '__class__',\n",
       " '__class_getitem__',\n",
       " '__contains__',\n",
       " '__delattr__',\n",
       " '__dir__',\n",
       " '__doc__',\n",
       " '__eq__',\n",
       " '__format__',\n",
       " '__ge__',\n",
       " '__getattribute__',\n",
       " '__gt__',\n",
       " '__hash__',\n",
       " '__iand__',\n",
       " '__init__',\n",
       " '__init_subclass__',\n",
       " '__ior__',\n",
       " '__isub__',\n",
       " '__iter__',\n",
       " '__ixor__',\n",
       " '__le__',\n",
       " '__len__',\n",
       " '__lt__',\n",
       " '__ne__',\n",
       " '__new__',\n",
       " '__or__',\n",
       " '__rand__',\n",
       " '__reduce__',\n",
       " '__reduce_ex__',\n",
       " '__repr__',\n",
       " '__ror__',\n",
       " '__rsub__',\n",
       " '__rxor__',\n",
       " '__setattr__',\n",
       " '__sizeof__',\n",
       " '__str__',\n",
       " '__sub__',\n",
       " '__subclasshook__',\n",
       " '__xor__',\n",
       " 'add',\n",
       " 'clear',\n",
       " 'copy',\n",
       " 'difference',\n",
       " 'difference_update',\n",
       " 'discard',\n",
       " 'intersection',\n",
       " 'intersection_update',\n",
       " 'isdisjoint',\n",
       " 'issubset',\n",
       " 'issuperset',\n",
       " 'pop',\n",
       " 'remove',\n",
       " 'symmetric_difference',\n",
       " 'symmetric_difference_update',\n",
       " 'union',\n",
       " 'update']"
      ]
     },
     "execution_count": 7,
     "metadata": {},
     "output_type": "execute_result"
    }
   ],
   "source": [
    "dir(st)"
   ]
  },
  {
   "cell_type": "code",
   "execution_count": 8,
   "id": "cb927131",
   "metadata": {},
   "outputs": [],
   "source": [
    "# Iterator\n",
    "# An object that can be iterated, meaning we can keep asking it for a new\n",
    "# element until there are no elements left. Elements \n",
    "# are requested using a method called __next__.\n",
    "# Iterable\n",
    "# An object that implements another special method, called __iter__. \n",
    "# This function returns an iterator."
   ]
  },
  {
   "cell_type": "code",
   "execution_count": 9,
   "id": "4acc5acd",
   "metadata": {},
   "outputs": [],
   "source": [
    "from itertools import product"
   ]
  },
  {
   "cell_type": "code",
   "execution_count": 12,
   "id": "d5df616f",
   "metadata": {},
   "outputs": [],
   "source": [
    "prod = product([2,6],[6,8], repeat=2)"
   ]
  },
  {
   "cell_type": "code",
   "execution_count": 13,
   "id": "50efd47a",
   "metadata": {},
   "outputs": [
    {
     "name": "stdout",
     "output_type": "stream",
     "text": [
      "[(2, 6, 2, 6), (2, 6, 2, 8), (2, 6, 6, 6), (2, 6, 6, 8), (2, 8, 2, 6), (2, 8, 2, 8), (2, 8, 6, 6), (2, 8, 6, 8), (6, 6, 2, 6), (6, 6, 2, 8), (6, 6, 6, 6), (6, 6, 6, 8), (6, 8, 2, 6), (6, 8, 2, 8), (6, 8, 6, 6), (6, 8, 6, 8)]\n"
     ]
    }
   ],
   "source": [
    "print(list(prod))"
   ]
  },
  {
   "cell_type": "code",
   "execution_count": 14,
   "id": "abee2564",
   "metadata": {},
   "outputs": [],
   "source": [
    "from itertools import permutations"
   ]
  },
  {
   "cell_type": "code",
   "execution_count": 15,
   "id": "822af895",
   "metadata": {},
   "outputs": [],
   "source": [
    "per = permutations(['A','B','C'])"
   ]
  },
  {
   "cell_type": "code",
   "execution_count": 16,
   "id": "b375cb67",
   "metadata": {},
   "outputs": [
    {
     "name": "stdout",
     "output_type": "stream",
     "text": [
      "<itertools.permutations object at 0x0000016FEB317180>\n"
     ]
    }
   ],
   "source": [
    "print(per)"
   ]
  },
  {
   "cell_type": "code",
   "execution_count": 17,
   "id": "e89ecafb",
   "metadata": {},
   "outputs": [
    {
     "name": "stdout",
     "output_type": "stream",
     "text": [
      "[('A', 'B', 'C'), ('A', 'C', 'B'), ('B', 'A', 'C'), ('B', 'C', 'A'), ('C', 'A', 'B'), ('C', 'B', 'A')]\n"
     ]
    }
   ],
   "source": [
    "print(list(per))"
   ]
  },
  {
   "cell_type": "code",
   "execution_count": 18,
   "id": "077741c4",
   "metadata": {},
   "outputs": [],
   "source": [
    "from itertools import combinations"
   ]
  },
  {
   "cell_type": "code",
   "execution_count": 19,
   "id": "d336f5f5",
   "metadata": {},
   "outputs": [],
   "source": [
    "comb = combinations(['A','B','C','D','E'], 2)"
   ]
  },
  {
   "cell_type": "code",
   "execution_count": 20,
   "id": "8e2aaeb0",
   "metadata": {},
   "outputs": [
    {
     "name": "stdout",
     "output_type": "stream",
     "text": [
      "[('A', 'B'), ('A', 'C'), ('A', 'D'), ('A', 'E'), ('B', 'C'), ('B', 'D'), ('B', 'E'), ('C', 'D'), ('C', 'E'), ('D', 'E')]\n"
     ]
    }
   ],
   "source": [
    "print(list(comb))"
   ]
  },
  {
   "cell_type": "code",
   "execution_count": 21,
   "id": "bab35aed",
   "metadata": {},
   "outputs": [],
   "source": [
    "from itertools import accumulate"
   ]
  },
  {
   "cell_type": "code",
   "execution_count": 22,
   "id": "951413e0",
   "metadata": {},
   "outputs": [],
   "source": [
    "acc = accumulate([1,2,3,4,5,6])"
   ]
  },
  {
   "cell_type": "code",
   "execution_count": 23,
   "id": "aecbea6e",
   "metadata": {},
   "outputs": [
    {
     "name": "stdout",
     "output_type": "stream",
     "text": [
      "[1, 3, 6, 10, 15, 21]\n"
     ]
    }
   ],
   "source": [
    "print(list(acc))"
   ]
  },
  {
   "cell_type": "code",
   "execution_count": 25,
   "id": "a748fac2",
   "metadata": {},
   "outputs": [],
   "source": [
    "import operator"
   ]
  },
  {
   "cell_type": "code",
   "execution_count": 26,
   "id": "10bdf286",
   "metadata": {},
   "outputs": [],
   "source": [
    "acc = accumulate([1,2,3,4,5,6], func = operator.mul)"
   ]
  },
  {
   "cell_type": "code",
   "execution_count": 27,
   "id": "98c0064d",
   "metadata": {},
   "outputs": [
    {
     "name": "stdout",
     "output_type": "stream",
     "text": [
      "[1, 2, 6, 24, 120, 720]\n"
     ]
    }
   ],
   "source": [
    "print(list(acc))"
   ]
  },
  {
   "cell_type": "code",
   "execution_count": 33,
   "id": "f0243fa0",
   "metadata": {},
   "outputs": [],
   "source": [
    "acc = accumulate([1,2,3,4,5,6], func = operator.pow(3,2))"
   ]
  },
  {
   "cell_type": "code",
   "execution_count": 31,
   "id": "f6d5f5ff",
   "metadata": {},
   "outputs": [
    {
     "name": "stdout",
     "output_type": "stream",
     "text": [
      "<itertools.accumulate object at 0x0000016FEDC58B00>\n"
     ]
    }
   ],
   "source": [
    "print(acc)"
   ]
  },
  {
   "cell_type": "code",
   "execution_count": null,
   "id": "3b9f3164",
   "metadata": {},
   "outputs": [],
   "source": []
  }
 ],
 "metadata": {
  "kernelspec": {
   "display_name": "Python 3 (ipykernel)",
   "language": "python",
   "name": "python3"
  },
  "language_info": {
   "codemirror_mode": {
    "name": "ipython",
    "version": 3
   },
   "file_extension": ".py",
   "mimetype": "text/x-python",
   "name": "python",
   "nbconvert_exporter": "python",
   "pygments_lexer": "ipython3",
   "version": "3.9.13"
  }
 },
 "nbformat": 4,
 "nbformat_minor": 5
}
